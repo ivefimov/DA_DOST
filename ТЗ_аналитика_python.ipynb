{
  "cells": [
    {
      "cell_type": "markdown",
      "id": "6c9edb2d-d24c-4f82-9faf-8e75aae39155",
      "metadata": {
        "id": "6c9edb2d-d24c-4f82-9faf-8e75aae39155"
      },
      "source": [
        "# 🔧 Техническое задание: Анализ зависимости между продажами и ключевой ставкой ЦБ РФ\n",
        "\n",
        "## 📌 Цель\n",
        "\n",
        "Определить, существует ли зависимость между продажами компании и ключевой ставкой Центрального Банка РФ за 2024 год.\n",
        "\n",
        "---\n",
        "\n",
        "## 🗂️ Входные данные\n",
        "\n",
        "### 1. Таблица с продажами по месяцам (`df_sales`)\n",
        "\n",
        "Содержит значения выручки компании на каждый месяц.\n",
        "\n",
        "💡 *Важно*: период с данными по продажам может меняться, скрипт должен быть гибким и не жёстко привязан к конкретному диапазону дат.\n",
        "\n",
        "```python\n",
        "dates = pd.date_range(start='2024-01-01', end='2024-12-01', freq='MS').strftime('%Y-%m-%d')\n",
        "\n",
        "df_sales = pd.DataFrame({\n",
        "    'date': dates,\n",
        "    'sales': [5350, 5450, 5500, 4500, 4400, 3900, 3800, 4000, 4500, 4900, 5000, 5500]\n",
        "})\n",
        "```\n",
        "\n",
        "### 2. Ключевая ставка ЦБ РФ\n",
        "Исторические данные находятся на официальном сайте Банка России:\n",
        "🔗 https://www.cbr.ru/hd_base/keyrate/\n",
        "\n",
        "## 📌 **Задачи**\n",
        "1. Собрать данные о ключевой ставке с сайта ЦБ РФ: подключиться к сайту с ключевой ставкой, спарсить актуальные данные сайта любым доступным способом.\n",
        "2. Сгруппировать данные по максимальной ключевой ставке за месяц\n",
        "3. Объединить таблицу продаж (df_sales) и сгруппированную таблицу с ключевой ставкой.\n",
        "   В итоге должна получится таблица, состоящая из трех столбцов: date, sales, rate (ключевая ставка)\n",
        "4. Сделать выводы: имеется ли зависимость между объемом продаж. Для этого можно использовать любой доступный способ (например, визуализация)\n",
        "\n",
        "\n",
        "## 📈 **Ожидаемые результаты**\n",
        "1. Ключевая ставка парсится каждый раз при запуске скрипта\n",
        "2. Имеется итоговая таблица со столбцами date, sales, rate (ключевая ставка) с данными на каждый месяц, при изменении периода в df_sales, ключевая ставка также подтягивается в объединенную таблицу.\n",
        "3. Сделаны выводы по зависимости объема продаж от ключевой ставки."
      ]
    },
    {
      "cell_type": "code",
      "execution_count": null,
      "id": "2f03136d",
      "metadata": {},
      "outputs": [],
      "source": [
        "# если не установлен parser lxml\n",
        "#!pip install lxml "
      ]
    },
    {
      "cell_type": "code",
      "execution_count": 9,
      "id": "e293fb05-8a90-4305-9d1d-890d9ae449b5",
      "metadata": {
        "id": "e293fb05-8a90-4305-9d1d-890d9ae449b5"
      },
      "outputs": [],
      "source": [
        "import pandas as pd\n",
        "from datetime import datetime\n",
        "from dateutil.relativedelta import relativedelta\n",
        "\n",
        "import requests\n",
        "from bs4 import BeautifulSoup\n"
      ]
    },
    {
      "cell_type": "code",
      "execution_count": 10,
      "id": "8a1e8f33-4345-4c68-ab7f-63773ec1da2b",
      "metadata": {
        "id": "8a1e8f33-4345-4c68-ab7f-63773ec1da2b"
      },
      "outputs": [
        {
          "name": "stdout",
          "output_type": "stream",
          "text": [
            "<class 'pandas.core.frame.DataFrame'>\n",
            "RangeIndex: 12 entries, 0 to 11\n",
            "Data columns (total 2 columns):\n",
            " #   Column  Non-Null Count  Dtype         \n",
            "---  ------  --------------  -----         \n",
            " 0   date    12 non-null     datetime64[ns]\n",
            " 1   sales   12 non-null     int64         \n",
            "dtypes: datetime64[ns](1), int64(1)\n",
            "memory usage: 324.0 bytes\n"
          ]
        }
      ],
      "source": [
        "dates = pd.date_range(start='2024-01-01', end='2024-12-01', freq='MS').strftime('%Y-%m-%d')\n",
        "df_sales = pd.DataFrame({\n",
        "    'date': dates,\n",
        "    'sales': [5350, 5450, 5500, 4500, 4400, 3900, 3800, 4000, 4500, 4900, 5000, 5500]\n",
        "})\n",
        "\n",
        "df_sales.date=pd.to_datetime(df_sales.date) # сделаем даты - датами\n",
        "df_sales.info()\n",
        "# df_sales"
      ]
    },
    {
      "cell_type": "markdown",
      "id": "tURby2qjBAQ5",
      "metadata": {
        "id": "tURby2qjBAQ5"
      },
      "source": [
        "## 1. Собрать данные о ключевой ставке с сайта ЦБ РФ: подключиться к сайту с ключевой ставкой, спарсить актуальные данные сайта любым доступным способом."
      ]
    },
    {
      "cell_type": "code",
      "execution_count": 11,
      "id": "S62vbuI7OO-s",
      "metadata": {
        "id": "S62vbuI7OO-s"
      },
      "outputs": [],
      "source": [
        "# определим функцию для парсинга ключевой ставки с сайта ЦБР\n",
        "\n",
        "def get_cbr_rate(start, end):\n",
        "  '''\n",
        "  Get key rate from CBR site\n",
        "  between start and end dates\n",
        "  and rerurn DataFrame.\n",
        "  '''\n",
        "  date_start=start.strftime('%d.%m.%Y')\n",
        "  date_end=end.strftime('%d.%m.%Y')\n",
        "  link = f'https://www.cbr.ru/hd_base/KeyRate/?UniDbQuery.Posted=True&UniDbQuery.From={date_start}&UniDbQuery.To={date_end}'\n",
        "  resp = requests.get(link)\n",
        "  if resp.status_code!=200:\n",
        "    print ('данные с сайта не получены')\n",
        "  else:\n",
        "    soup = BeautifulSoup(resp.text,'lxml')\n",
        "    table = soup.find('table')\n",
        "    dct_rate = {'date': None,\n",
        "             'rate': None, }\n",
        "    lst_rate=[]\n",
        "    rows = table.find_all('tr')\n",
        "    for row in rows[1:]: # начинаем со второго ряда таблицы, потому что 0 заголовки\n",
        "        r = row.find_all('td')\n",
        "        d=(r[0].get_text().strip()) # сохраняем русскую дату в строку\n",
        "        dct_rate['date'] = pd.to_datetime(datetime.strptime(d, '%d.%m.%Y').date()) # записываем дату\n",
        "        dct_rate['rate'] = float(r[1].get_text().strip().replace(',','.')) # сохраняем ставку\n",
        "        lst_rate.append(dct_rate.copy())\n",
        "\n",
        "    df = pd.DataFrame(lst_rate)\n",
        "  return df\n"
      ]
    },
    {
      "cell_type": "code",
      "execution_count": null,
      "id": "pgwh5OpjO4gg",
      "metadata": {
        "id": "pgwh5OpjO4gg"
      },
      "outputs": [],
      "source": [
        "# Заберем данные о ключевой ставке за период, указанный в таблице продаж\n",
        "start=df_sales['date'][0]\n",
        "end=df_sales['date'][len(df_sales.date)-1]+relativedelta(months=+1,days=-1)\n",
        "df=get_cbr_rate(start,end)\n",
        "# df"
      ]
    },
    {
      "cell_type": "markdown",
      "id": "Ac_WB4qPA6jt",
      "metadata": {
        "id": "Ac_WB4qPA6jt"
      },
      "source": [
        "## 2. Сгруппировать данные по максимальной ключевой ставке за месяц"
      ]
    },
    {
      "cell_type": "code",
      "execution_count": 12,
      "id": "iBHZRQzduagQ",
      "metadata": {
        "id": "iBHZRQzduagQ"
      },
      "outputs": [],
      "source": [
        "df['year_month']=df['date'].dt.strftime('%Y-%m') # создаем столбец Год-масяц\n",
        "df_max_r=df.groupby('year_month').max('rate').reset_index() # группируем по максимальной ставке за месяц\n",
        "df_max_r.year_month=pd.to_datetime(df_max_r.year_month) # Создаем сгруппированный по максимальной ставке DataFrame\n",
        "\n",
        "# df_max_r.info()\n",
        "# df_max_r"
      ]
    },
    {
      "cell_type": "markdown",
      "id": "d5XBmePEHzUh",
      "metadata": {
        "id": "d5XBmePEHzUh"
      },
      "source": [
        "## 3. Объединить таблицу продаж (df_sales) и сгруппированную таблицу с ключевой ставкой. В итоге должна получится таблица, состоящая из трех столбцов: date, sales, rate (ключевая ставка"
      ]
    },
    {
      "cell_type": "code",
      "execution_count": 13,
      "id": "DYxoXvvl_iOX",
      "metadata": {
        "colab": {
          "base_uri": "https://localhost:8080/",
          "height": 610
        },
        "id": "DYxoXvvl_iOX",
        "outputId": "adc325a1-e55f-4c77-8e5f-6a2f5cbf8270"
      },
      "outputs": [
        {
          "name": "stdout",
          "output_type": "stream",
          "text": [
            "<class 'pandas.core.frame.DataFrame'>\n",
            "RangeIndex: 12 entries, 0 to 11\n",
            "Data columns (total 3 columns):\n",
            " #   Column  Non-Null Count  Dtype         \n",
            "---  ------  --------------  -----         \n",
            " 0   date    12 non-null     datetime64[ns]\n",
            " 1   sales   12 non-null     int64         \n",
            " 2   rate    12 non-null     float64       \n",
            "dtypes: datetime64[ns](1), float64(1), int64(1)\n",
            "memory usage: 420.0 bytes\n"
          ]
        },
        {
          "data": {
            "text/html": [
              "<div>\n",
              "<style scoped>\n",
              "    .dataframe tbody tr th:only-of-type {\n",
              "        vertical-align: middle;\n",
              "    }\n",
              "\n",
              "    .dataframe tbody tr th {\n",
              "        vertical-align: top;\n",
              "    }\n",
              "\n",
              "    .dataframe thead th {\n",
              "        text-align: right;\n",
              "    }\n",
              "</style>\n",
              "<table border=\"1\" class=\"dataframe\">\n",
              "  <thead>\n",
              "    <tr style=\"text-align: right;\">\n",
              "      <th></th>\n",
              "      <th>date</th>\n",
              "      <th>sales</th>\n",
              "      <th>rate</th>\n",
              "    </tr>\n",
              "  </thead>\n",
              "  <tbody>\n",
              "    <tr>\n",
              "      <th>0</th>\n",
              "      <td>2024-01-01</td>\n",
              "      <td>5350</td>\n",
              "      <td>16.0</td>\n",
              "    </tr>\n",
              "    <tr>\n",
              "      <th>1</th>\n",
              "      <td>2024-02-01</td>\n",
              "      <td>5450</td>\n",
              "      <td>16.0</td>\n",
              "    </tr>\n",
              "    <tr>\n",
              "      <th>2</th>\n",
              "      <td>2024-03-01</td>\n",
              "      <td>5500</td>\n",
              "      <td>16.0</td>\n",
              "    </tr>\n",
              "    <tr>\n",
              "      <th>3</th>\n",
              "      <td>2024-04-01</td>\n",
              "      <td>4500</td>\n",
              "      <td>16.0</td>\n",
              "    </tr>\n",
              "    <tr>\n",
              "      <th>4</th>\n",
              "      <td>2024-05-01</td>\n",
              "      <td>4400</td>\n",
              "      <td>16.0</td>\n",
              "    </tr>\n",
              "    <tr>\n",
              "      <th>5</th>\n",
              "      <td>2024-06-01</td>\n",
              "      <td>3900</td>\n",
              "      <td>16.0</td>\n",
              "    </tr>\n",
              "    <tr>\n",
              "      <th>6</th>\n",
              "      <td>2024-07-01</td>\n",
              "      <td>3800</td>\n",
              "      <td>18.0</td>\n",
              "    </tr>\n",
              "    <tr>\n",
              "      <th>7</th>\n",
              "      <td>2024-08-01</td>\n",
              "      <td>4000</td>\n",
              "      <td>18.0</td>\n",
              "    </tr>\n",
              "    <tr>\n",
              "      <th>8</th>\n",
              "      <td>2024-09-01</td>\n",
              "      <td>4500</td>\n",
              "      <td>19.0</td>\n",
              "    </tr>\n",
              "    <tr>\n",
              "      <th>9</th>\n",
              "      <td>2024-10-01</td>\n",
              "      <td>4900</td>\n",
              "      <td>21.0</td>\n",
              "    </tr>\n",
              "    <tr>\n",
              "      <th>10</th>\n",
              "      <td>2024-11-01</td>\n",
              "      <td>5000</td>\n",
              "      <td>21.0</td>\n",
              "    </tr>\n",
              "    <tr>\n",
              "      <th>11</th>\n",
              "      <td>2024-12-01</td>\n",
              "      <td>5500</td>\n",
              "      <td>21.0</td>\n",
              "    </tr>\n",
              "  </tbody>\n",
              "</table>\n",
              "</div>"
            ],
            "text/plain": [
              "         date  sales  rate\n",
              "0  2024-01-01   5350  16.0\n",
              "1  2024-02-01   5450  16.0\n",
              "2  2024-03-01   5500  16.0\n",
              "3  2024-04-01   4500  16.0\n",
              "4  2024-05-01   4400  16.0\n",
              "5  2024-06-01   3900  16.0\n",
              "6  2024-07-01   3800  18.0\n",
              "7  2024-08-01   4000  18.0\n",
              "8  2024-09-01   4500  19.0\n",
              "9  2024-10-01   4900  21.0\n",
              "10 2024-11-01   5000  21.0\n",
              "11 2024-12-01   5500  21.0"
            ]
          },
          "execution_count": 13,
          "metadata": {},
          "output_type": "execute_result"
        }
      ],
      "source": [
        "df_max_r.rename(columns={'year_month':'date'}, inplace=True) # переименуем столбец с месяцем\n",
        "df_itog=df_sales.merge(df_max_r, on='date') # добавим к продажм столбец с ключевой ставкой\n",
        "df_itog.info()\n",
        "df_itog"
      ]
    },
    {
      "cell_type": "markdown",
      "id": "G-rSar0P0OqZ",
      "metadata": {
        "id": "G-rSar0P0OqZ"
      },
      "source": [
        "## 4.Сделать выводы: имеется ли зависимость между объемом продаж. Для этого можно использовать любой доступный способ (например, визуализация)"
      ]
    },
    {
      "cell_type": "code",
      "execution_count": 14,
      "id": "20rkZHSCBhXn",
      "metadata": {
        "colab": {
          "base_uri": "https://localhost:8080/",
          "height": 112
        },
        "id": "20rkZHSCBhXn",
        "outputId": "6ad7636d-bf8c-4a50-f079-b8187dc39134"
      },
      "outputs": [
        {
          "data": {
            "text/html": [
              "<div>\n",
              "<style scoped>\n",
              "    .dataframe tbody tr th:only-of-type {\n",
              "        vertical-align: middle;\n",
              "    }\n",
              "\n",
              "    .dataframe tbody tr th {\n",
              "        vertical-align: top;\n",
              "    }\n",
              "\n",
              "    .dataframe thead th {\n",
              "        text-align: right;\n",
              "    }\n",
              "</style>\n",
              "<table border=\"1\" class=\"dataframe\">\n",
              "  <thead>\n",
              "    <tr style=\"text-align: right;\">\n",
              "      <th></th>\n",
              "      <th>rate</th>\n",
              "      <th>sales</th>\n",
              "    </tr>\n",
              "  </thead>\n",
              "  <tbody>\n",
              "    <tr>\n",
              "      <th>rate</th>\n",
              "      <td>1.000000</td>\n",
              "      <td>0.129099</td>\n",
              "    </tr>\n",
              "    <tr>\n",
              "      <th>sales</th>\n",
              "      <td>0.129099</td>\n",
              "      <td>1.000000</td>\n",
              "    </tr>\n",
              "  </tbody>\n",
              "</table>\n",
              "</div>"
            ],
            "text/plain": [
              "           rate     sales\n",
              "rate   1.000000  0.129099\n",
              "sales  0.129099  1.000000"
            ]
          },
          "execution_count": 14,
          "metadata": {},
          "output_type": "execute_result"
        }
      ],
      "source": [
        "df_itog[['rate','sales']].corr() # определим корреляцию между объемом продаж и ключевой ставкой ЦБ России\n"
      ]
    },
    {
      "cell_type": "code",
      "execution_count": 15,
      "id": "BMYGcC56-5MM",
      "metadata": {
        "colab": {
          "base_uri": "https://localhost:8080/",
          "height": 490
        },
        "id": "BMYGcC56-5MM",
        "outputId": "5a285904-a499-4976-fcd2-2a4f10fee73a"
      },
      "outputs": [
        {
          "data": {
            "text/plain": [
              "<Axes: title={'center': 'зависимость объема продаж от ключевой ставки'}, xlabel='rate', ylabel='sales'>"
            ]
          },
          "execution_count": 15,
          "metadata": {},
          "output_type": "execute_result"
        },
        {
          "data": {
            "image/png": "[encoded data removed]",
            "text/plain": [
              "<Figure size 640x480 with 1 Axes>"
            ]
          },
          "metadata": {},
          "output_type": "display_data"
        }
      ],
      "source": [
        "df_itog.plot(kind = 'scatter', y = 'sales', x = 'rate', title='зависимость объема продаж от ключевой ставки') # как взаимозависимость выглядит графически"
      ]
    },
    {
      "cell_type": "markdown",
      "id": "EibpQBjL3C-W",
      "metadata": {
        "id": "EibpQBjL3C-W"
      },
      "source": []
    },
    {
      "cell_type": "markdown",
      "id": "fNhEoCZU15I_",
      "metadata": {
        "id": "fNhEoCZU15I_"
      },
      "source": [
        "# Вывод : Зависимость объема продаж от максимальной ключевой ставки банка россии в соответствующем месяце  - отсутствует.\n",
        "\n"
      ]
    }
  ],
  "metadata": {
    "colab": {
      "provenance": []
    },
    "kernelspec": {
      "display_name": "Python 3",
      "language": "python",
      "name": "python3"
    },
    "language_info": {
      "codemirror_mode": {
        "name": "ipython",
        "version": 3
      },
      "file_extension": ".py",
      "mimetype": "text/x-python",
      "name": "python",
      "nbconvert_exporter": "python",
      "pygments_lexer": "ipython3",
      "version": "3.12.1"
    }
  },
  "nbformat": 4,
  "nbformat_minor": 5
}
